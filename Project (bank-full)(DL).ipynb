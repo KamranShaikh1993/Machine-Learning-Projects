{
 "cells": [
  {
   "cell_type": "code",
   "execution_count": 1,
   "id": "eb51dfd3",
   "metadata": {
    "executionInfo": {
     "elapsed": 50,
     "status": "ok",
     "timestamp": 1659018907400,
     "user": {
      "displayName": "Shaikh Kamran",
      "userId": "05909890588408576726"
     },
     "user_tz": -330
    },
    "id": "eb51dfd3"
   },
   "outputs": [],
   "source": [
    "import numpy as np\n",
    "import matplotlib.pyplot as plt\n",
    "import pandas as pd\n",
    "import seaborn as sns\n",
    "import warnings\n",
    "warnings.filterwarnings('ignore')"
   ]
  },
  {
   "cell_type": "markdown",
   "id": "69c3a72b",
   "metadata": {
    "id": "69c3a72b"
   },
   "source": [
    "# Data related to direct marketing campaigns of a Portuguese banking institution.\n",
    "The data is related with direct marketing campaigns of a Portuguese banking institution. The marketing campaigns were based on phone calls. Often, more than one contact to the same client was required, in order to access if the product (bank term deposit) would be ('yes') or not ('no') subscribed."
   ]
  },
  {
   "cell_type": "code",
   "execution_count": 2,
   "id": "f99d6122",
   "metadata": {
    "colab": {
     "base_uri": "https://localhost:8080/",
     "height": 270
    },
    "executionInfo": {
     "elapsed": 874,
     "status": "ok",
     "timestamp": 1659019019049,
     "user": {
      "displayName": "Shaikh Kamran",
      "userId": "05909890588408576726"
     },
     "user_tz": -330
    },
    "id": "f99d6122",
    "outputId": "086ca1d6-72ab-40ea-f2ac-36c4eab9b3e3"
   },
   "outputs": [
    {
     "data": {
      "text/html": [
       "<div>\n",
       "<style scoped>\n",
       "    .dataframe tbody tr th:only-of-type {\n",
       "        vertical-align: middle;\n",
       "    }\n",
       "\n",
       "    .dataframe tbody tr th {\n",
       "        vertical-align: top;\n",
       "    }\n",
       "\n",
       "    .dataframe thead th {\n",
       "        text-align: right;\n",
       "    }\n",
       "</style>\n",
       "<table border=\"1\" class=\"dataframe\">\n",
       "  <thead>\n",
       "    <tr style=\"text-align: right;\">\n",
       "      <th></th>\n",
       "      <th>age</th>\n",
       "      <th>job</th>\n",
       "      <th>marital</th>\n",
       "      <th>education</th>\n",
       "      <th>default</th>\n",
       "      <th>balance</th>\n",
       "      <th>housing</th>\n",
       "      <th>loan</th>\n",
       "      <th>contact</th>\n",
       "      <th>day</th>\n",
       "      <th>month</th>\n",
       "      <th>duration</th>\n",
       "      <th>campaign</th>\n",
       "      <th>pdays</th>\n",
       "      <th>previous</th>\n",
       "      <th>poutcome</th>\n",
       "      <th>Target</th>\n",
       "    </tr>\n",
       "  </thead>\n",
       "  <tbody>\n",
       "    <tr>\n",
       "      <th>0</th>\n",
       "      <td>58</td>\n",
       "      <td>management</td>\n",
       "      <td>married</td>\n",
       "      <td>tertiary</td>\n",
       "      <td>no</td>\n",
       "      <td>2143</td>\n",
       "      <td>yes</td>\n",
       "      <td>no</td>\n",
       "      <td>unknown</td>\n",
       "      <td>5</td>\n",
       "      <td>may</td>\n",
       "      <td>261</td>\n",
       "      <td>1</td>\n",
       "      <td>-1</td>\n",
       "      <td>0</td>\n",
       "      <td>unknown</td>\n",
       "      <td>no</td>\n",
       "    </tr>\n",
       "    <tr>\n",
       "      <th>1</th>\n",
       "      <td>44</td>\n",
       "      <td>technician</td>\n",
       "      <td>single</td>\n",
       "      <td>secondary</td>\n",
       "      <td>no</td>\n",
       "      <td>29</td>\n",
       "      <td>yes</td>\n",
       "      <td>no</td>\n",
       "      <td>unknown</td>\n",
       "      <td>5</td>\n",
       "      <td>may</td>\n",
       "      <td>151</td>\n",
       "      <td>1</td>\n",
       "      <td>-1</td>\n",
       "      <td>0</td>\n",
       "      <td>unknown</td>\n",
       "      <td>no</td>\n",
       "    </tr>\n",
       "    <tr>\n",
       "      <th>2</th>\n",
       "      <td>33</td>\n",
       "      <td>entrepreneur</td>\n",
       "      <td>married</td>\n",
       "      <td>secondary</td>\n",
       "      <td>no</td>\n",
       "      <td>2</td>\n",
       "      <td>yes</td>\n",
       "      <td>yes</td>\n",
       "      <td>unknown</td>\n",
       "      <td>5</td>\n",
       "      <td>may</td>\n",
       "      <td>76</td>\n",
       "      <td>1</td>\n",
       "      <td>-1</td>\n",
       "      <td>0</td>\n",
       "      <td>unknown</td>\n",
       "      <td>no</td>\n",
       "    </tr>\n",
       "    <tr>\n",
       "      <th>3</th>\n",
       "      <td>47</td>\n",
       "      <td>blue-collar</td>\n",
       "      <td>married</td>\n",
       "      <td>unknown</td>\n",
       "      <td>no</td>\n",
       "      <td>1506</td>\n",
       "      <td>yes</td>\n",
       "      <td>no</td>\n",
       "      <td>unknown</td>\n",
       "      <td>5</td>\n",
       "      <td>may</td>\n",
       "      <td>92</td>\n",
       "      <td>1</td>\n",
       "      <td>-1</td>\n",
       "      <td>0</td>\n",
       "      <td>unknown</td>\n",
       "      <td>no</td>\n",
       "    </tr>\n",
       "    <tr>\n",
       "      <th>4</th>\n",
       "      <td>33</td>\n",
       "      <td>unknown</td>\n",
       "      <td>single</td>\n",
       "      <td>unknown</td>\n",
       "      <td>no</td>\n",
       "      <td>1</td>\n",
       "      <td>no</td>\n",
       "      <td>no</td>\n",
       "      <td>unknown</td>\n",
       "      <td>5</td>\n",
       "      <td>may</td>\n",
       "      <td>198</td>\n",
       "      <td>1</td>\n",
       "      <td>-1</td>\n",
       "      <td>0</td>\n",
       "      <td>unknown</td>\n",
       "      <td>no</td>\n",
       "    </tr>\n",
       "  </tbody>\n",
       "</table>\n",
       "</div>"
      ],
      "text/plain": [
       "   age           job  marital  education default  balance housing loan  \\\n",
       "0   58    management  married   tertiary      no     2143     yes   no   \n",
       "1   44    technician   single  secondary      no       29     yes   no   \n",
       "2   33  entrepreneur  married  secondary      no        2     yes  yes   \n",
       "3   47   blue-collar  married    unknown      no     1506     yes   no   \n",
       "4   33       unknown   single    unknown      no        1      no   no   \n",
       "\n",
       "   contact  day month  duration  campaign  pdays  previous poutcome Target  \n",
       "0  unknown    5   may       261         1     -1         0  unknown     no  \n",
       "1  unknown    5   may       151         1     -1         0  unknown     no  \n",
       "2  unknown    5   may        76         1     -1         0  unknown     no  \n",
       "3  unknown    5   may        92         1     -1         0  unknown     no  \n",
       "4  unknown    5   may       198         1     -1         0  unknown     no  "
      ]
     },
     "execution_count": 2,
     "metadata": {},
     "output_type": "execute_result"
    }
   ],
   "source": [
    "# df=pd.read_csv('/content/drive/MyDrive/DL-Project/bank-full.csv')\n",
    "df=pd.read_csv('bank-full.csv')\n",
    "df.head()"
   ]
  },
  {
   "cell_type": "markdown",
   "id": "e5e47b71",
   "metadata": {
    "id": "e5e47b71"
   },
   "source": [
    "# Context:\n",
    "Leveraging customer information is paramount for most businesses. In the case of a bank, attributes of customers like the ones mentioned below can be crucial in strategizing a marketing campaign when launching a new product."
   ]
  },
  {
   "cell_type": "code",
   "execution_count": 3,
   "id": "7d8f461a",
   "metadata": {
    "colab": {
     "base_uri": "https://localhost:8080/"
    },
    "executionInfo": {
     "elapsed": 40,
     "status": "ok",
     "timestamp": 1659019029324,
     "user": {
      "displayName": "Shaikh Kamran",
      "userId": "05909890588408576726"
     },
     "user_tz": -330
    },
    "id": "7d8f461a",
    "outputId": "3f1fdc27-0fb3-4739-ae12-92a83eb0c62e"
   },
   "outputs": [
    {
     "data": {
      "text/plain": [
       "(45211, 17)"
      ]
     },
     "execution_count": 3,
     "metadata": {},
     "output_type": "execute_result"
    }
   ],
   "source": [
    "df.shape"
   ]
  },
  {
   "cell_type": "code",
   "execution_count": 4,
   "id": "1b75eb95",
   "metadata": {
    "colab": {
     "base_uri": "https://localhost:8080/"
    },
    "executionInfo": {
     "elapsed": 35,
     "status": "ok",
     "timestamp": 1659019029325,
     "user": {
      "displayName": "Shaikh Kamran",
      "userId": "05909890588408576726"
     },
     "user_tz": -330
    },
    "id": "1b75eb95",
    "outputId": "1945e160-7a8e-4675-daaa-6620a7667d4c"
   },
   "outputs": [
    {
     "data": {
      "text/plain": [
       "array(['no', 'yes'], dtype=object)"
      ]
     },
     "execution_count": 4,
     "metadata": {},
     "output_type": "execute_result"
    }
   ],
   "source": [
    "df['Target'].unique()"
   ]
  },
  {
   "cell_type": "code",
   "execution_count": 5,
   "id": "f0fb21e9",
   "metadata": {
    "colab": {
     "base_uri": "https://localhost:8080/"
    },
    "executionInfo": {
     "elapsed": 31,
     "status": "ok",
     "timestamp": 1659019029326,
     "user": {
      "displayName": "Shaikh Kamran",
      "userId": "05909890588408576726"
     },
     "user_tz": -330
    },
    "id": "f0fb21e9",
    "outputId": "38fdb709-5e34-4de6-8992-88e1fcc4fc2b"
   },
   "outputs": [
    {
     "data": {
      "text/plain": [
       "age          0\n",
       "job          0\n",
       "marital      0\n",
       "education    0\n",
       "default      0\n",
       "balance      0\n",
       "housing      0\n",
       "loan         0\n",
       "contact      0\n",
       "day          0\n",
       "month        0\n",
       "duration     0\n",
       "campaign     0\n",
       "pdays        0\n",
       "previous     0\n",
       "poutcome     0\n",
       "Target       0\n",
       "dtype: int64"
      ]
     },
     "execution_count": 5,
     "metadata": {},
     "output_type": "execute_result"
    }
   ],
   "source": [
    "# Check null values\n",
    "df.isnull().sum()"
   ]
  },
  {
   "cell_type": "code",
   "execution_count": 6,
   "id": "0820f9f4",
   "metadata": {
    "colab": {
     "base_uri": "https://localhost:8080/",
     "height": 310
    },
    "executionInfo": {
     "elapsed": 3472,
     "status": "ok",
     "timestamp": 1659019032771,
     "user": {
      "displayName": "Shaikh Kamran",
      "userId": "05909890588408576726"
     },
     "user_tz": -330
    },
    "id": "0820f9f4",
    "outputId": "0371298c-e084-4997-8b6c-f2c6497b2eff"
   },
   "outputs": [
    {
     "data": {
      "image/png": "[encoded data removed]",
      "text/plain": [
       "<Figure size 432x288 with 2 Axes>"
      ]
     },
     "metadata": {
      "needs_background": "light"
     },
     "output_type": "display_data"
    }
   ],
   "source": [
    "# Visualise null values\n",
    "sns.heatmap(df.isnull())\n",
    "plt.show()"
   ]
  },
  {
   "cell_type": "code",
   "execution_count": 7,
   "id": "eafff3cb",
   "metadata": {
    "colab": {
     "base_uri": "https://localhost:8080/"
    },
    "executionInfo": {
     "elapsed": 22,
     "status": "ok",
     "timestamp": 1659019032772,
     "user": {
      "displayName": "Shaikh Kamran",
      "userId": "05909890588408576726"
     },
     "user_tz": -330
    },
    "id": "eafff3cb",
    "outputId": "fffbef25-de91-449a-d957-365b360002cf"
   },
   "outputs": [
    {
     "data": {
      "text/plain": [
       "age           int64\n",
       "job          object\n",
       "marital      object\n",
       "education    object\n",
       "default      object\n",
       "balance       int64\n",
       "housing      object\n",
       "loan         object\n",
       "contact      object\n",
       "day           int64\n",
       "month        object\n",
       "duration      int64\n",
       "campaign      int64\n",
       "pdays         int64\n",
       "previous      int64\n",
       "poutcome     object\n",
       "Target       object\n",
       "dtype: object"
      ]
     },
     "execution_count": 7,
     "metadata": {},
     "output_type": "execute_result"
    }
   ],
   "source": [
    "# Check data type\n",
    "df.dtypes"
   ]
  },
  {
   "cell_type": "code",
   "execution_count": 8,
   "id": "4323793a",
   "metadata": {
    "colab": {
     "base_uri": "https://localhost:8080/"
    },
    "executionInfo": {
     "elapsed": 18,
     "status": "ok",
     "timestamp": 1659019032773,
     "user": {
      "displayName": "Shaikh Kamran",
      "userId": "05909890588408576726"
     },
     "user_tz": -330
    },
    "id": "4323793a",
    "outputId": "84309403-af2d-425a-8a02-fb06391d4a21"
   },
   "outputs": [
    {
     "data": {
      "text/plain": [
       "0"
      ]
     },
     "execution_count": 8,
     "metadata": {},
     "output_type": "execute_result"
    }
   ],
   "source": [
    "# check duplicates\n",
    "df.duplicated().sum()"
   ]
  },
  {
   "cell_type": "code",
   "execution_count": 9,
   "id": "a6f32d01",
   "metadata": {
    "colab": {
     "base_uri": "https://localhost:8080/"
    },
    "executionInfo": {
     "elapsed": 14,
     "status": "ok",
     "timestamp": 1659019032774,
     "user": {
      "displayName": "Shaikh Kamran",
      "userId": "05909890588408576726"
     },
     "user_tz": -330
    },
    "id": "a6f32d01",
    "outputId": "5e6d94f3-9778-4bf4-e7e4-9618d18727f9"
   },
   "outputs": [
    {
     "data": {
      "text/plain": [
       "no     39922\n",
       "yes     5289\n",
       "Name: Target, dtype: int64"
      ]
     },
     "execution_count": 9,
     "metadata": {},
     "output_type": "execute_result"
    }
   ],
   "source": [
    "# Check how many categorical samples are there in column 'Target'\n",
    "df['Target'].value_counts()"
   ]
  },
  {
   "cell_type": "code",
   "execution_count": 10,
   "id": "d5320e78",
   "metadata": {
    "colab": {
     "base_uri": "https://localhost:8080/",
     "height": 279
    },
    "executionInfo": {
     "elapsed": 749,
     "status": "ok",
     "timestamp": 1659019033512,
     "user": {
      "displayName": "Shaikh Kamran",
      "userId": "05909890588408576726"
     },
     "user_tz": -330
    },
    "id": "d5320e78",
    "outputId": "044f3e4c-5e9e-4de1-a69c-2502d46482c9"
   },
   "outputs": [
    {
     "data": {
      "image/png": "[encoded data removed]",
      "text/plain": [
       "<Figure size 432x288 with 1 Axes>"
      ]
     },
     "metadata": {
      "needs_background": "light"
     },
     "output_type": "display_data"
    }
   ],
   "source": [
    "# Visualise count plot\n",
    "sns.countplot(data=df,x='Target')\n",
    "plt.show()"
   ]
  },
  {
   "cell_type": "code",
   "execution_count": 11,
   "id": "bacd4dd3",
   "metadata": {
    "executionInfo": {
     "elapsed": 40,
     "status": "ok",
     "timestamp": 1659019033513,
     "user": {
      "displayName": "Shaikh Kamran",
      "userId": "05909890588408576726"
     },
     "user_tz": -330
    },
    "id": "bacd4dd3"
   },
   "outputs": [],
   "source": [
    "# Now Split DataSet into 2 parts\n",
    "# Numeric type and Categorical type\n",
    "df_num=df.select_dtypes(['int64','float64'])\n",
    "df_cat=df.select_dtypes(object)"
   ]
  },
  {
   "cell_type": "code",
   "execution_count": 12,
   "id": "99b60e26",
   "metadata": {
    "colab": {
     "base_uri": "https://localhost:8080/",
     "height": 206
    },
    "executionInfo": {
     "elapsed": 39,
     "status": "ok",
     "timestamp": 1659019033514,
     "user": {
      "displayName": "Shaikh Kamran",
      "userId": "05909890588408576726"
     },
     "user_tz": -330
    },
    "id": "99b60e26",
    "outputId": "83a05f5c-c51f-4753-b44a-00b60c54b7d3"
   },
   "outputs": [
    {
     "data": {
      "text/html": [
       "<div>\n",
       "<style scoped>\n",
       "    .dataframe tbody tr th:only-of-type {\n",
       "        vertical-align: middle;\n",
       "    }\n",
       "\n",
       "    .dataframe tbody tr th {\n",
       "        vertical-align: top;\n",
       "    }\n",
       "\n",
       "    .dataframe thead th {\n",
       "        text-align: right;\n",
       "    }\n",
       "</style>\n",
       "<table border=\"1\" class=\"dataframe\">\n",
       "  <thead>\n",
       "    <tr style=\"text-align: right;\">\n",
       "      <th></th>\n",
       "      <th>age</th>\n",
       "      <th>balance</th>\n",
       "      <th>day</th>\n",
       "      <th>duration</th>\n",
       "      <th>campaign</th>\n",
       "      <th>pdays</th>\n",
       "      <th>previous</th>\n",
       "    </tr>\n",
       "  </thead>\n",
       "  <tbody>\n",
       "    <tr>\n",
       "      <th>0</th>\n",
       "      <td>58</td>\n",
       "      <td>2143</td>\n",
       "      <td>5</td>\n",
       "      <td>261</td>\n",
       "      <td>1</td>\n",
       "      <td>-1</td>\n",
       "      <td>0</td>\n",
       "    </tr>\n",
       "    <tr>\n",
       "      <th>1</th>\n",
       "      <td>44</td>\n",
       "      <td>29</td>\n",
       "      <td>5</td>\n",
       "      <td>151</td>\n",
       "      <td>1</td>\n",
       "      <td>-1</td>\n",
       "      <td>0</td>\n",
       "    </tr>\n",
       "    <tr>\n",
       "      <th>2</th>\n",
       "      <td>33</td>\n",
       "      <td>2</td>\n",
       "      <td>5</td>\n",
       "      <td>76</td>\n",
       "      <td>1</td>\n",
       "      <td>-1</td>\n",
       "      <td>0</td>\n",
       "    </tr>\n",
       "    <tr>\n",
       "      <th>3</th>\n",
       "      <td>47</td>\n",
       "      <td>1506</td>\n",
       "      <td>5</td>\n",
       "      <td>92</td>\n",
       "      <td>1</td>\n",
       "      <td>-1</td>\n",
       "      <td>0</td>\n",
       "    </tr>\n",
       "    <tr>\n",
       "      <th>4</th>\n",
       "      <td>33</td>\n",
       "      <td>1</td>\n",
       "      <td>5</td>\n",
       "      <td>198</td>\n",
       "      <td>1</td>\n",
       "      <td>-1</td>\n",
       "      <td>0</td>\n",
       "    </tr>\n",
       "  </tbody>\n",
       "</table>\n",
       "</div>"
      ],
      "text/plain": [
       "   age  balance  day  duration  campaign  pdays  previous\n",
       "0   58     2143    5       261         1     -1         0\n",
       "1   44       29    5       151         1     -1         0\n",
       "2   33        2    5        76         1     -1         0\n",
       "3   47     1506    5        92         1     -1         0\n",
       "4   33        1    5       198         1     -1         0"
      ]
     },
     "execution_count": 12,
     "metadata": {},
     "output_type": "execute_result"
    }
   ],
   "source": [
    "df_num.head()"
   ]
  },
  {
   "cell_type": "code",
   "execution_count": 13,
   "id": "4113500c",
   "metadata": {
    "colab": {
     "base_uri": "https://localhost:8080/",
     "height": 206
    },
    "executionInfo": {
     "elapsed": 37,
     "status": "ok",
     "timestamp": 1659019033515,
     "user": {
      "displayName": "Shaikh Kamran",
      "userId": "05909890588408576726"
     },
     "user_tz": -330
    },
    "id": "4113500c",
    "outputId": "67b7042d-6d45-43e2-d691-268fac0122f2"
   },
   "outputs": [
    {
     "data": {
      "text/html": [
       "<div>\n",
       "<style scoped>\n",
       "    .dataframe tbody tr th:only-of-type {\n",
       "        vertical-align: middle;\n",
       "    }\n",
       "\n",
       "    .dataframe tbody tr th {\n",
       "        vertical-align: top;\n",
       "    }\n",
       "\n",
       "    .dataframe thead th {\n",
       "        text-align: right;\n",
       "    }\n",
       "</style>\n",
       "<table border=\"1\" class=\"dataframe\">\n",
       "  <thead>\n",
       "    <tr style=\"text-align: right;\">\n",
       "      <th></th>\n",
       "      <th>job</th>\n",
       "      <th>marital</th>\n",
       "      <th>education</th>\n",
       "      <th>default</th>\n",
       "      <th>housing</th>\n",
       "      <th>loan</th>\n",
       "      <th>contact</th>\n",
       "      <th>month</th>\n",
       "      <th>poutcome</th>\n",
       "      <th>Target</th>\n",
       "    </tr>\n",
       "  </thead>\n",
       "  <tbody>\n",
       "    <tr>\n",
       "      <th>0</th>\n",
       "      <td>management</td>\n",
       "      <td>married</td>\n",
       "      <td>tertiary</td>\n",
       "      <td>no</td>\n",
       "      <td>yes</td>\n",
       "      <td>no</td>\n",
       "      <td>unknown</td>\n",
       "      <td>may</td>\n",
       "      <td>unknown</td>\n",
       "      <td>no</td>\n",
       "    </tr>\n",
       "    <tr>\n",
       "      <th>1</th>\n",
       "      <td>technician</td>\n",
       "      <td>single</td>\n",
       "      <td>secondary</td>\n",
       "      <td>no</td>\n",
       "      <td>yes</td>\n",
       "      <td>no</td>\n",
       "      <td>unknown</td>\n",
       "      <td>may</td>\n",
       "      <td>unknown</td>\n",
       "      <td>no</td>\n",
       "    </tr>\n",
       "    <tr>\n",
       "      <th>2</th>\n",
       "      <td>entrepreneur</td>\n",
       "      <td>married</td>\n",
       "      <td>secondary</td>\n",
       "      <td>no</td>\n",
       "      <td>yes</td>\n",
       "      <td>yes</td>\n",
       "      <td>unknown</td>\n",
       "      <td>may</td>\n",
       "      <td>unknown</td>\n",
       "      <td>no</td>\n",
       "    </tr>\n",
       "    <tr>\n",
       "      <th>3</th>\n",
       "      <td>blue-collar</td>\n",
       "      <td>married</td>\n",
       "      <td>unknown</td>\n",
       "      <td>no</td>\n",
       "      <td>yes</td>\n",
       "      <td>no</td>\n",
       "      <td>unknown</td>\n",
       "      <td>may</td>\n",
       "      <td>unknown</td>\n",
       "      <td>no</td>\n",
       "    </tr>\n",
       "    <tr>\n",
       "      <th>4</th>\n",
       "      <td>unknown</td>\n",
       "      <td>single</td>\n",
       "      <td>unknown</td>\n",
       "      <td>no</td>\n",
       "      <td>no</td>\n",
       "      <td>no</td>\n",
       "      <td>unknown</td>\n",
       "      <td>may</td>\n",
       "      <td>unknown</td>\n",
       "      <td>no</td>\n",
       "    </tr>\n",
       "  </tbody>\n",
       "</table>\n",
       "</div>"
      ],
      "text/plain": [
       "            job  marital  education default housing loan  contact month  \\\n",
       "0    management  married   tertiary      no     yes   no  unknown   may   \n",
       "1    technician   single  secondary      no     yes   no  unknown   may   \n",
       "2  entrepreneur  married  secondary      no     yes  yes  unknown   may   \n",
       "3   blue-collar  married    unknown      no     yes   no  unknown   may   \n",
       "4       unknown   single    unknown      no      no   no  unknown   may   \n",
       "\n",
       "  poutcome Target  \n",
       "0  unknown     no  \n",
       "1  unknown     no  \n",
       "2  unknown     no  \n",
       "3  unknown     no  \n",
       "4  unknown     no  "
      ]
     },
     "execution_count": 13,
     "metadata": {},
     "output_type": "execute_result"
    }
   ],
   "source": [
    "df_cat.head()"
   ]
  },
  {
   "cell_type": "code",
   "execution_count": 14,
   "id": "2a11b2d3",
   "metadata": {
    "executionInfo": {
     "elapsed": 1083,
     "status": "ok",
     "timestamp": 1659019034563,
     "user": {
      "displayName": "Shaikh Kamran",
      "userId": "05909890588408576726"
     },
     "user_tz": -330
    },
    "id": "2a11b2d3"
   },
   "outputs": [],
   "source": [
    "# To convert categorical type data into numeric type.\n",
    "# Use Label Encoder\n",
    "from sklearn.preprocessing import LabelEncoder"
   ]
  },
  {
   "cell_type": "code",
   "execution_count": 15,
   "id": "1dc4cdbe",
   "metadata": {
    "executionInfo": {
     "elapsed": 554,
     "status": "ok",
     "timestamp": 1659019055063,
     "user": {
      "displayName": "Shaikh Kamran",
      "userId": "05909890588408576726"
     },
     "user_tz": -330
    },
    "id": "1dc4cdbe"
   },
   "outputs": [],
   "source": [
    "for col in df_cat:\n",
    "    # create an object of LabelEncoder\n",
    "    le=LabelEncoder()\n",
    "    df_cat[col]=le.fit_transform(df_cat[col])"
   ]
  },
  {
   "cell_type": "code",
   "execution_count": 16,
   "id": "ae55e8dc",
   "metadata": {
    "colab": {
     "base_uri": "https://localhost:8080/"
    },
    "executionInfo": {
     "elapsed": 10,
     "status": "ok",
     "timestamp": 1659019055757,
     "user": {
      "displayName": "Shaikh Kamran",
      "userId": "05909890588408576726"
     },
     "user_tz": -330
    },
    "id": "ae55e8dc",
    "outputId": "0c0d817f-5035-4379-853d-5701ec598313"
   },
   "outputs": [
    {
     "data": {
      "text/plain": [
       "job          int64\n",
       "marital      int64\n",
       "education    int64\n",
       "default      int64\n",
       "housing      int64\n",
       "loan         int64\n",
       "contact      int64\n",
       "month        int64\n",
       "poutcome     int64\n",
       "Target       int64\n",
       "dtype: object"
      ]
     },
     "execution_count": 16,
     "metadata": {},
     "output_type": "execute_result"
    }
   ],
   "source": [
    "df_cat.dtypes"
   ]
  },
  {
   "cell_type": "code",
   "execution_count": 17,
   "id": "500bba7e",
   "metadata": {
    "executionInfo": {
     "elapsed": 9,
     "status": "ok",
     "timestamp": 1659019055758,
     "user": {
      "displayName": "Shaikh Kamran",
      "userId": "05909890588408576726"
     },
     "user_tz": -330
    },
    "id": "500bba7e"
   },
   "outputs": [],
   "source": [
    "# After applying LabelEncoder we concatenate df_cat and df_num.\n",
    "df_new=pd.concat([df_num,df_cat],axis=1)"
   ]
  },
  {
   "cell_type": "code",
   "execution_count": 18,
   "id": "d724e0be",
   "metadata": {
    "colab": {
     "base_uri": "https://localhost:8080/",
     "height": 270
    },
    "executionInfo": {
     "elapsed": 9,
     "status": "ok",
     "timestamp": 1659019055759,
     "user": {
      "displayName": "Shaikh Kamran",
      "userId": "05909890588408576726"
     },
     "user_tz": -330
    },
    "id": "d724e0be",
    "outputId": "6f7d1832-38ce-4854-e9a4-72c9d36aa6b7"
   },
   "outputs": [
    {
     "data": {
      "text/html": [
       "<div>\n",
       "<style scoped>\n",
       "    .dataframe tbody tr th:only-of-type {\n",
       "        vertical-align: middle;\n",
       "    }\n",
       "\n",
       "    .dataframe tbody tr th {\n",
       "        vertical-align: top;\n",
       "    }\n",
       "\n",
       "    .dataframe thead th {\n",
       "        text-align: right;\n",
       "    }\n",
       "</style>\n",
       "<table border=\"1\" class=\"dataframe\">\n",
       "  <thead>\n",
       "    <tr style=\"text-align: right;\">\n",
       "      <th></th>\n",
       "      <th>age</th>\n",
       "      <th>balance</th>\n",
       "      <th>day</th>\n",
       "      <th>duration</th>\n",
       "      <th>campaign</th>\n",
       "      <th>pdays</th>\n",
       "      <th>previous</th>\n",
       "      <th>job</th>\n",
       "      <th>marital</th>\n",
       "      <th>education</th>\n",
       "      <th>default</th>\n",
       "      <th>housing</th>\n",
       "      <th>loan</th>\n",
       "      <th>contact</th>\n",
       "      <th>month</th>\n",
       "      <th>poutcome</th>\n",
       "      <th>Target</th>\n",
       "    </tr>\n",
       "  </thead>\n",
       "  <tbody>\n",
       "    <tr>\n",
       "      <th>0</th>\n",
       "      <td>58</td>\n",
       "      <td>2143</td>\n",
       "      <td>5</td>\n",
       "      <td>261</td>\n",
       "      <td>1</td>\n",
       "      <td>-1</td>\n",
       "      <td>0</td>\n",
       "      <td>4</td>\n",
       "      <td>1</td>\n",
       "      <td>2</td>\n",
       "      <td>0</td>\n",
       "      <td>1</td>\n",
       "      <td>0</td>\n",
       "      <td>2</td>\n",
       "      <td>8</td>\n",
       "      <td>3</td>\n",
       "      <td>0</td>\n",
       "    </tr>\n",
       "    <tr>\n",
       "      <th>1</th>\n",
       "      <td>44</td>\n",
       "      <td>29</td>\n",
       "      <td>5</td>\n",
       "      <td>151</td>\n",
       "      <td>1</td>\n",
       "      <td>-1</td>\n",
       "      <td>0</td>\n",
       "      <td>9</td>\n",
       "      <td>2</td>\n",
       "      <td>1</td>\n",
       "      <td>0</td>\n",
       "      <td>1</td>\n",
       "      <td>0</td>\n",
       "      <td>2</td>\n",
       "      <td>8</td>\n",
       "      <td>3</td>\n",
       "      <td>0</td>\n",
       "    </tr>\n",
       "    <tr>\n",
       "      <th>2</th>\n",
       "      <td>33</td>\n",
       "      <td>2</td>\n",
       "      <td>5</td>\n",
       "      <td>76</td>\n",
       "      <td>1</td>\n",
       "      <td>-1</td>\n",
       "      <td>0</td>\n",
       "      <td>2</td>\n",
       "      <td>1</td>\n",
       "      <td>1</td>\n",
       "      <td>0</td>\n",
       "      <td>1</td>\n",
       "      <td>1</td>\n",
       "      <td>2</td>\n",
       "      <td>8</td>\n",
       "      <td>3</td>\n",
       "      <td>0</td>\n",
       "    </tr>\n",
       "    <tr>\n",
       "      <th>3</th>\n",
       "      <td>47</td>\n",
       "      <td>1506</td>\n",
       "      <td>5</td>\n",
       "      <td>92</td>\n",
       "      <td>1</td>\n",
       "      <td>-1</td>\n",
       "      <td>0</td>\n",
       "      <td>1</td>\n",
       "      <td>1</td>\n",
       "      <td>3</td>\n",
       "      <td>0</td>\n",
       "      <td>1</td>\n",
       "      <td>0</td>\n",
       "      <td>2</td>\n",
       "      <td>8</td>\n",
       "      <td>3</td>\n",
       "      <td>0</td>\n",
       "    </tr>\n",
       "    <tr>\n",
       "      <th>4</th>\n",
       "      <td>33</td>\n",
       "      <td>1</td>\n",
       "      <td>5</td>\n",
       "      <td>198</td>\n",
       "      <td>1</td>\n",
       "      <td>-1</td>\n",
       "      <td>0</td>\n",
       "      <td>11</td>\n",
       "      <td>2</td>\n",
       "      <td>3</td>\n",
       "      <td>0</td>\n",
       "      <td>0</td>\n",
       "      <td>0</td>\n",
       "      <td>2</td>\n",
       "      <td>8</td>\n",
       "      <td>3</td>\n",
       "      <td>0</td>\n",
       "    </tr>\n",
       "  </tbody>\n",
       "</table>\n",
       "</div>"
      ],
      "text/plain": [
       "   age  balance  day  duration  campaign  pdays  previous  job  marital  \\\n",
       "0   58     2143    5       261         1     -1         0    4        1   \n",
       "1   44       29    5       151         1     -1         0    9        2   \n",
       "2   33        2    5        76         1     -1         0    2        1   \n",
       "3   47     1506    5        92         1     -1         0    1        1   \n",
       "4   33        1    5       198         1     -1         0   11        2   \n",
       "\n",
       "   education  default  housing  loan  contact  month  poutcome  Target  \n",
       "0          2        0        1     0        2      8         3       0  \n",
       "1          1        0        1     0        2      8         3       0  \n",
       "2          1        0        1     1        2      8         3       0  \n",
       "3          3        0        1     0        2      8         3       0  \n",
       "4          3        0        0     0        2      8         3       0  "
      ]
     },
     "execution_count": 18,
     "metadata": {},
     "output_type": "execute_result"
    }
   ],
   "source": [
    "df_new.head()"
   ]
  },
  {
   "cell_type": "code",
   "execution_count": null,
   "id": "fa3a356c",
   "metadata": {
    "executionInfo": {
     "elapsed": 9,
     "status": "ok",
     "timestamp": 1659019056548,
     "user": {
      "displayName": "Shaikh Kamran",
      "userId": "05909890588408576726"
     },
     "user_tz": -330
    },
    "id": "fa3a356c"
   },
   "outputs": [],
   "source": []
  },
  {
   "cell_type": "code",
   "execution_count": 19,
   "id": "b3f36ee7",
   "metadata": {
    "executionInfo": {
     "elapsed": 9,
     "status": "ok",
     "timestamp": 1659019056549,
     "user": {
      "displayName": "Shaikh Kamran",
      "userId": "05909890588408576726"
     },
     "user_tz": -330
    },
    "id": "b3f36ee7"
   },
   "outputs": [],
   "source": [
    "# Split dataset in input and output\n",
    "X=df_new.drop('Target',axis=1)    # input\n",
    "Y=df_new['Target']                # output"
   ]
  },
  {
   "cell_type": "code",
   "execution_count": 20,
   "id": "4eea4ddc",
   "metadata": {
    "colab": {
     "base_uri": "https://localhost:8080/",
     "height": 270
    },
    "executionInfo": {
     "elapsed": 9,
     "status": "ok",
     "timestamp": 1659019056550,
     "user": {
      "displayName": "Shaikh Kamran",
      "userId": "05909890588408576726"
     },
     "user_tz": -330
    },
    "id": "4eea4ddc",
    "outputId": "5833bd54-68bf-438b-8df2-95cf4c239ea5"
   },
   "outputs": [
    {
     "data": {
      "text/html": [
       "<div>\n",
       "<style scoped>\n",
       "    .dataframe tbody tr th:only-of-type {\n",
       "        vertical-align: middle;\n",
       "    }\n",
       "\n",
       "    .dataframe tbody tr th {\n",
       "        vertical-align: top;\n",
       "    }\n",
       "\n",
       "    .dataframe thead th {\n",
       "        text-align: right;\n",
       "    }\n",
       "</style>\n",
       "<table border=\"1\" class=\"dataframe\">\n",
       "  <thead>\n",
       "    <tr style=\"text-align: right;\">\n",
       "      <th></th>\n",
       "      <th>age</th>\n",
       "      <th>balance</th>\n",
       "      <th>day</th>\n",
       "      <th>duration</th>\n",
       "      <th>campaign</th>\n",
       "      <th>pdays</th>\n",
       "      <th>previous</th>\n",
       "      <th>job</th>\n",
       "      <th>marital</th>\n",
       "      <th>education</th>\n",
       "      <th>default</th>\n",
       "      <th>housing</th>\n",
       "      <th>loan</th>\n",
       "      <th>contact</th>\n",
       "      <th>month</th>\n",
       "      <th>poutcome</th>\n",
       "    </tr>\n",
       "  </thead>\n",
       "  <tbody>\n",
       "    <tr>\n",
       "      <th>0</th>\n",
       "      <td>58</td>\n",
       "      <td>2143</td>\n",
       "      <td>5</td>\n",
       "      <td>261</td>\n",
       "      <td>1</td>\n",
       "      <td>-1</td>\n",
       "      <td>0</td>\n",
       "      <td>4</td>\n",
       "      <td>1</td>\n",
       "      <td>2</td>\n",
       "      <td>0</td>\n",
       "      <td>1</td>\n",
       "      <td>0</td>\n",
       "      <td>2</td>\n",
       "      <td>8</td>\n",
       "      <td>3</td>\n",
       "    </tr>\n",
       "    <tr>\n",
       "      <th>1</th>\n",
       "      <td>44</td>\n",
       "      <td>29</td>\n",
       "      <td>5</td>\n",
       "      <td>151</td>\n",
       "      <td>1</td>\n",
       "      <td>-1</td>\n",
       "      <td>0</td>\n",
       "      <td>9</td>\n",
       "      <td>2</td>\n",
       "      <td>1</td>\n",
       "      <td>0</td>\n",
       "      <td>1</td>\n",
       "      <td>0</td>\n",
       "      <td>2</td>\n",
       "      <td>8</td>\n",
       "      <td>3</td>\n",
       "    </tr>\n",
       "    <tr>\n",
       "      <th>2</th>\n",
       "      <td>33</td>\n",
       "      <td>2</td>\n",
       "      <td>5</td>\n",
       "      <td>76</td>\n",
       "      <td>1</td>\n",
       "      <td>-1</td>\n",
       "      <td>0</td>\n",
       "      <td>2</td>\n",
       "      <td>1</td>\n",
       "      <td>1</td>\n",
       "      <td>0</td>\n",
       "      <td>1</td>\n",
       "      <td>1</td>\n",
       "      <td>2</td>\n",
       "      <td>8</td>\n",
       "      <td>3</td>\n",
       "    </tr>\n",
       "    <tr>\n",
       "      <th>3</th>\n",
       "      <td>47</td>\n",
       "      <td>1506</td>\n",
       "      <td>5</td>\n",
       "      <td>92</td>\n",
       "      <td>1</td>\n",
       "      <td>-1</td>\n",
       "      <td>0</td>\n",
       "      <td>1</td>\n",
       "      <td>1</td>\n",
       "      <td>3</td>\n",
       "      <td>0</td>\n",
       "      <td>1</td>\n",
       "      <td>0</td>\n",
       "      <td>2</td>\n",
       "      <td>8</td>\n",
       "      <td>3</td>\n",
       "    </tr>\n",
       "    <tr>\n",
       "      <th>4</th>\n",
       "      <td>33</td>\n",
       "      <td>1</td>\n",
       "      <td>5</td>\n",
       "      <td>198</td>\n",
       "      <td>1</td>\n",
       "      <td>-1</td>\n",
       "      <td>0</td>\n",
       "      <td>11</td>\n",
       "      <td>2</td>\n",
       "      <td>3</td>\n",
       "      <td>0</td>\n",
       "      <td>0</td>\n",
       "      <td>0</td>\n",
       "      <td>2</td>\n",
       "      <td>8</td>\n",
       "      <td>3</td>\n",
       "    </tr>\n",
       "  </tbody>\n",
       "</table>\n",
       "</div>"
      ],
      "text/plain": [
       "   age  balance  day  duration  campaign  pdays  previous  job  marital  \\\n",
       "0   58     2143    5       261         1     -1         0    4        1   \n",
       "1   44       29    5       151         1     -1         0    9        2   \n",
       "2   33        2    5        76         1     -1         0    2        1   \n",
       "3   47     1506    5        92         1     -1         0    1        1   \n",
       "4   33        1    5       198         1     -1         0   11        2   \n",
       "\n",
       "   education  default  housing  loan  contact  month  poutcome  \n",
       "0          2        0        1     0        2      8         3  \n",
       "1          1        0        1     0        2      8         3  \n",
       "2          1        0        1     1        2      8         3  \n",
       "3          3        0        1     0        2      8         3  \n",
       "4          3        0        0     0        2      8         3  "
      ]
     },
     "execution_count": 20,
     "metadata": {},
     "output_type": "execute_result"
    }
   ],
   "source": [
    "X.head()"
   ]
  },
  {
   "cell_type": "code",
   "execution_count": 21,
   "id": "0bc1ead5",
   "metadata": {
    "executionInfo": {
     "elapsed": 8,
     "status": "ok",
     "timestamp": 1659019056550,
     "user": {
      "displayName": "Shaikh Kamran",
      "userId": "05909890588408576726"
     },
     "user_tz": -330
    },
    "id": "0bc1ead5"
   },
   "outputs": [],
   "source": [
    "# Now Train_test_split\n",
    "from sklearn.model_selection import train_test_split\n",
    "X_train,X_test,Y_train,Y_test=train_test_split(X,Y,test_size=0.3,random_state=1)"
   ]
  },
  {
   "cell_type": "code",
   "execution_count": 22,
   "id": "cfc68b35",
   "metadata": {
    "executionInfo": {
     "elapsed": 9,
     "status": "ok",
     "timestamp": 1659019057138,
     "user": {
      "displayName": "Shaikh Kamran",
      "userId": "05909890588408576726"
     },
     "user_tz": -330
    },
    "id": "cfc68b35"
   },
   "outputs": [],
   "source": [
    "# Now applying Scaling on input data X_train and X_test before we train the model\n",
    "# Apply StandardScaler on input data training and testing\n",
    "from sklearn.preprocessing import StandardScaler"
   ]
  },
  {
   "cell_type": "code",
   "execution_count": 23,
   "id": "f8993496",
   "metadata": {
    "executionInfo": {
     "elapsed": 9,
     "status": "ok",
     "timestamp": 1659019057139,
     "user": {
      "displayName": "Shaikh Kamran",
      "userId": "05909890588408576726"
     },
     "user_tz": -330
    },
    "id": "f8993496"
   },
   "outputs": [],
   "source": [
    "# Create an object of StandardScaler class\n",
    "ss=StandardScaler()\n",
    "#means apply standard scaler for X_train and X_test data\n",
    "\n",
    "X_train=ss.fit_transform(X_train)\n",
    "X_test=ss.transform(X_test)"
   ]
  },
  {
   "cell_type": "code",
   "execution_count": 24,
   "id": "4a30f747",
   "metadata": {
    "colab": {
     "base_uri": "https://localhost:8080/"
    },
    "executionInfo": {
     "elapsed": 7,
     "status": "ok",
     "timestamp": 1659019057139,
     "user": {
      "displayName": "Shaikh Kamran",
      "userId": "05909890588408576726"
     },
     "user_tz": -330
    },
    "id": "4a30f747",
    "outputId": "2185f40f-16ca-4792-b4d9-95714fb71259"
   },
   "outputs": [
    {
     "data": {
      "text/plain": [
       "array([[-0.84143541, -0.51390555,  1.34758125, ...,  1.52140573,\n",
       "         0.82078152,  0.44354185],\n",
       "       [-0.65299489, -0.59018462,  1.34758125, ...,  1.52140573,\n",
       "         0.15474035,  0.44354185],\n",
       "       [-0.84143541, -0.3537195 ,  0.3854076 , ..., -0.71081695,\n",
       "        -1.51036258,  0.44354185],\n",
       "       ...,\n",
       "       [ 0.66608873,  0.89376114,  0.62595101, ...,  1.52140573,\n",
       "         0.82078152,  0.44354185],\n",
       "       [ 0.38342795,  0.1284278 ,  0.50567931, ...,  1.52140573,\n",
       "         0.15474035,  0.44354185],\n",
       "       [ 0.38342795, -0.32733965,  0.14486419, ..., -0.71081695,\n",
       "        -1.84338317, -1.58152759]])"
      ]
     },
     "execution_count": 24,
     "metadata": {},
     "output_type": "execute_result"
    }
   ],
   "source": [
    "X_train"
   ]
  },
  {
   "cell_type": "code",
   "execution_count": 25,
   "id": "08b1880d",
   "metadata": {
    "executionInfo": {
     "elapsed": 6,
     "status": "ok",
     "timestamp": 1659019057753,
     "user": {
      "displayName": "Shaikh Kamran",
      "userId": "05909890588408576726"
     },
     "user_tz": -330
    },
    "id": "08b1880d"
   },
   "outputs": [],
   "source": [
    "# Generation Classification report\n",
    "from sklearn.metrics import classification_report\n",
    "from sklearn.metrics import confusion_matrix"
   ]
  },
  {
   "cell_type": "markdown",
   "id": "c9fdac87",
   "metadata": {
    "id": "c9fdac87"
   },
   "source": [
    "# Report\n",
    "This model is not accurate as the value of 0 is 98%.\n",
    "#Clearly Data is imbalance #here, there are 2 classes : first class : 0 means Target says 'No #and second class : 1 means Target says 'Yes #here majority class : 0(39922 samples) and minority class : 0(5289 samples) #Here we have to balance of both classes #means here we have to use sampling technique for balance of 2 classes #There are 2 types of sampling technique :- #1. RandomOverSampling : in this sampling , converts minority class into #majority class #2. RandonUnderSampling : in this sampling , converts majority class into #minority class"
   ]
  },
  {
   "cell_type": "markdown",
   "id": "69bf99b9",
   "metadata": {
    "id": "69bf99b9"
   },
   "source": [
    "# First install inbuilt package imblearn\n",
    "#!pip install imblearn"
   ]
  },
  {
   "cell_type": "code",
   "execution_count": 26,
   "id": "ff30a30d",
   "metadata": {
    "executionInfo": {
     "elapsed": 1389,
     "status": "ok",
     "timestamp": 1659019072474,
     "user": {
      "displayName": "Shaikh Kamran",
      "userId": "05909890588408576726"
     },
     "user_tz": -330
    },
    "id": "ff30a30d"
   },
   "outputs": [],
   "source": [
    "#RandomOverSampler : inbuilt class : to increase means create duplicate \n",
    "#records of minority class which equal to majority class\n",
    "from imblearn.over_sampling import RandomOverSampler"
   ]
  },
  {
   "cell_type": "code",
   "execution_count": 27,
   "id": "d80e5fa8",
   "metadata": {
    "colab": {
     "base_uri": "https://localhost:8080/"
    },
    "executionInfo": {
     "elapsed": 7,
     "status": "ok",
     "timestamp": 1659019072474,
     "user": {
      "displayName": "Shaikh Kamran",
      "userId": "05909890588408576726"
     },
     "user_tz": -330
    },
    "id": "d80e5fa8",
    "outputId": "bee9cf14-047e-49f1-e1ee-2c082705c3de"
   },
   "outputs": [
    {
     "data": {
      "text/plain": [
       "0    27909\n",
       "1     3738\n",
       "Name: Target, dtype: int64"
      ]
     },
     "execution_count": 27,
     "metadata": {},
     "output_type": "execute_result"
    }
   ],
   "source": [
    "# Check how many samples of class 0,1 and 2 class in Y_train\n",
    "Y_train.value_counts()"
   ]
  },
  {
   "cell_type": "code",
   "execution_count": 28,
   "id": "16a1b161",
   "metadata": {
    "executionInfo": {
     "elapsed": 5,
     "status": "ok",
     "timestamp": 1659019073196,
     "user": {
      "displayName": "Shaikh Kamran",
      "userId": "05909890588408576726"
     },
     "user_tz": -330
    },
    "id": "16a1b161"
   },
   "outputs": [],
   "source": [
    "# Now apply RandomOverSampler class.\n",
    "# Create an object of RandomOverSampler class\n",
    "ros=RandomOverSampler(random_state=1)"
   ]
  },
  {
   "cell_type": "code",
   "execution_count": 29,
   "id": "a96380a3",
   "metadata": {
    "executionInfo": {
     "elapsed": 4,
     "status": "ok",
     "timestamp": 1659019073196,
     "user": {
      "displayName": "Shaikh Kamran",
      "userId": "05909890588408576726"
     },
     "user_tz": -330
    },
    "id": "a96380a3"
   },
   "outputs": [],
   "source": [
    "# Use inbuilt method fit_resample() of RandomOverSampler class\n",
    "X_train_ros,Y_train_ros=ros.fit_resample(X_train,Y_train)"
   ]
  },
  {
   "cell_type": "code",
   "execution_count": 30,
   "id": "2647a6f8",
   "metadata": {
    "colab": {
     "base_uri": "https://localhost:8080/"
    },
    "executionInfo": {
     "elapsed": 12,
     "status": "ok",
     "timestamp": 1659019074231,
     "user": {
      "displayName": "Shaikh Kamran",
      "userId": "05909890588408576726"
     },
     "user_tz": -330
    },
    "id": "2647a6f8",
    "outputId": "9ac00682-17c0-492c-a778-33c570100567"
   },
   "outputs": [
    {
     "data": {
      "text/plain": [
       "0    27909\n",
       "1    27909\n",
       "Name: Target, dtype: int64"
      ]
     },
     "execution_count": 30,
     "metadata": {},
     "output_type": "execute_result"
    }
   ],
   "source": [
    "# Check \n",
    "Y_train_ros.value_counts()"
   ]
  },
  {
   "cell_type": "code",
   "execution_count": 31,
   "id": "76f38f83",
   "metadata": {
    "colab": {
     "base_uri": "https://localhost:8080/"
    },
    "executionInfo": {
     "elapsed": 11,
     "status": "ok",
     "timestamp": 1659019074232,
     "user": {
      "displayName": "Shaikh Kamran",
      "userId": "05909890588408576726"
     },
     "user_tz": -330
    },
    "id": "76f38f83",
    "outputId": "7195c513-cb04-49ee-b8b6-f2e82f1b36dd"
   },
   "outputs": [
    {
     "data": {
      "text/plain": [
       "0    12013\n",
       "1     1551\n",
       "Name: Target, dtype: int64"
      ]
     },
     "execution_count": 31,
     "metadata": {},
     "output_type": "execute_result"
    }
   ],
   "source": [
    "# Now check how many samples of class 0,1 and 2 class in Y_test\n",
    "Y_test.value_counts()"
   ]
  },
  {
   "cell_type": "code",
   "execution_count": 32,
   "id": "82648751",
   "metadata": {
    "executionInfo": {
     "elapsed": 6,
     "status": "ok",
     "timestamp": 1659019074232,
     "user": {
      "displayName": "Shaikh Kamran",
      "userId": "05909890588408576726"
     },
     "user_tz": -330
    },
    "id": "82648751"
   },
   "outputs": [],
   "source": [
    "# Now apply RandomOverSampler on testing data\n",
    "X_test_ros,Y_test_ros=ros.fit_resample(X_test,Y_test)"
   ]
  },
  {
   "cell_type": "code",
   "execution_count": 33,
   "id": "ef857fc6",
   "metadata": {
    "colab": {
     "base_uri": "https://localhost:8080/"
    },
    "executionInfo": {
     "elapsed": 9,
     "status": "ok",
     "timestamp": 1659019074635,
     "user": {
      "displayName": "Shaikh Kamran",
      "userId": "05909890588408576726"
     },
     "user_tz": -330
    },
    "id": "ef857fc6",
    "outputId": "eb304ed2-9412-44c0-9eb4-f91f74378dfe"
   },
   "outputs": [
    {
     "data": {
      "text/plain": [
       "0    12013\n",
       "1    12013\n",
       "Name: Target, dtype: int64"
      ]
     },
     "execution_count": 33,
     "metadata": {},
     "output_type": "execute_result"
    }
   ],
   "source": [
    "# Again check\n",
    "Y_test_ros.value_counts()"
   ]
  },
  {
   "cell_type": "code",
   "execution_count": 34,
   "id": "457c6c31",
   "metadata": {
    "executionInfo": {
     "elapsed": 8,
     "status": "ok",
     "timestamp": 1659019074636,
     "user": {
      "displayName": "Shaikh Kamran",
      "userId": "05909890588408576726"
     },
     "user_tz": -330
    },
    "id": "457c6c31"
   },
   "outputs": [],
   "source": [
    "# regression = linear\n",
    "#classification = sigmoid\n",
    "#more than 2 = softmax"
   ]
  },
  {
   "cell_type": "code",
   "execution_count": 35,
   "id": "4d4ad254",
   "metadata": {
    "executionInfo": {
     "elapsed": 2600,
     "status": "ok",
     "timestamp": 1659019077229,
     "user": {
      "displayName": "Shaikh Kamran",
      "userId": "05909890588408576726"
     },
     "user_tz": -330
    },
    "id": "4d4ad254"
   },
   "outputs": [
    {
     "name": "stderr",
     "output_type": "stream",
     "text": [
      "2022-07-29 12:58:18.529758: W tensorflow/stream_executor/platform/default/dso_loader.cc:64] Could not load dynamic library 'libcudart.so.11.0'; dlerror: libcudart.so.11.0: cannot open shared object file: No such file or directory\n",
      "2022-07-29 12:58:18.529789: I tensorflow/stream_executor/cuda/cudart_stub.cc:29] Ignore above cudart dlerror if you do not have a GPU set up on your machine.\n",
      "2022-07-29 12:58:20.011136: W tensorflow/stream_executor/platform/default/dso_loader.cc:64] Could not load dynamic library 'libcuda.so.1'; dlerror: libcuda.so.1: cannot open shared object file: No such file or directory\n",
      "2022-07-29 12:58:20.011170: W tensorflow/stream_executor/cuda/cuda_driver.cc:269] failed call to cuInit: UNKNOWN ERROR (303)\n",
      "2022-07-29 12:58:20.011192: I tensorflow/stream_executor/cuda/cuda_diagnostics.cc:156] kernel driver does not appear to be running on this host (desktop): /proc/driver/nvidia/version does not exist\n"
     ]
    }
   ],
   "source": [
    "# Create archetecture of neural network\n",
    "import tensorflow as tf\n",
    "# create the object of Sequential class\n",
    "model=tf.keras.models.Sequential([\n",
    "  tf.keras.layers.Dense(units=16,activation='relu',input_shape=(X.shape[1],)),\n",
    "  tf.keras.layers.Dense(units=16,activation='relu'),\n",
    "  tf.keras.layers.Dense(units=1,activation='sigmoid')\n",
    "])"
   ]
  },
  {
   "cell_type": "code",
   "execution_count": 36,
   "id": "22d5d84d",
   "metadata": {
    "colab": {
     "base_uri": "https://localhost:8080/"
    },
    "executionInfo": {
     "elapsed": 1016,
     "status": "ok",
     "timestamp": 1659019080446,
     "user": {
      "displayName": "Shaikh Kamran",
      "userId": "05909890588408576726"
     },
     "user_tz": -330
    },
    "id": "22d5d84d",
    "outputId": "058aa3ee-fdbd-4feb-a62b-15f2a81dec84"
   },
   "outputs": [
    {
     "name": "stdout",
     "output_type": "stream",
     "text": [
      "Model: \"sequential\"\n",
      "_________________________________________________________________\n",
      " Layer (type)                Output Shape              Param #   \n",
      "=================================================================\n",
      " dense (Dense)               (None, 16)                272       \n",
      "                                                                 \n",
      " dense_1 (Dense)             (None, 16)                272       \n",
      "                                                                 \n",
      " dense_2 (Dense)             (None, 1)                 17        \n",
      "                                                                 \n",
      "=================================================================\n",
      "Total params: 561\n",
      "Trainable params: 561\n",
      "Non-trainable params: 0\n",
      "_________________________________________________________________\n"
     ]
    }
   ],
   "source": [
    "model.summary()"
   ]
  },
  {
   "cell_type": "code",
   "execution_count": 37,
   "id": "05991e7b",
   "metadata": {
    "executionInfo": {
     "elapsed": 6,
     "status": "ok",
     "timestamp": 1659019080447,
     "user": {
      "displayName": "Shaikh Kamran",
      "userId": "05909890588408576726"
     },
     "user_tz": -330
    },
    "id": "05991e7b"
   },
   "outputs": [],
   "source": [
    "# Compile the model\n",
    "model.compile(optimizer='Adam',loss='binary_crossentropy',metrics=['Accuracy'])\n"
   ]
  },
  {
   "cell_type": "code",
   "execution_count": 38,
   "id": "9e2b719d",
   "metadata": {
    "executionInfo": {
     "elapsed": 6,
     "status": "ok",
     "timestamp": 1659019080448,
     "user": {
      "displayName": "Shaikh Kamran",
      "userId": "05909890588408576726"
     },
     "user_tz": -330
    },
    "id": "9e2b719d"
   },
   "outputs": [],
   "source": [
    "# Early Stopping: is used to stop itration.\n",
    "from tensorflow.keras.callbacks import EarlyStopping\n",
    "# Callbacks : inbuilt parameter of fit()\n",
    "# Create Callbacks:-\n",
    "# EarlyStopping() inbuilt function.\n",
    "cb=EarlyStopping(\n",
    "    monitor='val_loss',   # val_loss means testing error\n",
    "    min_delta=0.00001,   # value of Lambda\n",
    "    patience=20,\n",
    "    verbose=1,\n",
    "    mode='auto',   # main loss\n",
    "    baseline=None,\n",
    "    restore_best_weights=False\n",
    ")"
   ]
  },
  {
   "cell_type": "code",
   "execution_count": 39,
   "id": "b6e6c56c",
   "metadata": {
    "colab": {
     "base_uri": "https://localhost:8080/"
    },
    "executionInfo": {
     "elapsed": 319545,
     "status": "ok",
     "timestamp": 1659019400492,
     "user": {
      "displayName": "Shaikh Kamran",
      "userId": "05909890588408576726"
     },
     "user_tz": -330
    },
    "id": "b6e6c56c",
    "outputId": "8af13be4-399f-4ad8-e1f3-554a82d29749"
   },
   "outputs": [
    {
     "name": "stdout",
     "output_type": "stream",
     "text": [
      "Epoch 1/4000\n",
      "1396/1396 [==============================] - 2s 1ms/step - loss: 0.4650 - Accuracy: 0.7868 - val_loss: 0.4082 - val_Accuracy: 0.8167\n",
      "Epoch 2/4000\n",
      "1396/1396 [==============================] - 2s 1ms/step - loss: 0.4064 - Accuracy: 0.8214 - val_loss: 0.3945 - val_Accuracy: 0.8258\n",
      "Epoch 3/4000\n",
      "1396/1396 [==============================] - 2s 1ms/step - loss: 0.3962 - Accuracy: 0.8275 - val_loss: 0.3859 - val_Accuracy: 0.8306\n",
      "Epoch 4/4000\n",
      "1396/1396 [==============================] - 2s 1ms/step - loss: 0.3898 - Accuracy: 0.8289 - val_loss: 0.3862 - val_Accuracy: 0.8313\n",
      "Epoch 5/4000\n",
      "1396/1396 [==============================] - 2s 1ms/step - loss: 0.3855 - Accuracy: 0.8305 - val_loss: 0.3768 - val_Accuracy: 0.8329\n",
      "Epoch 6/4000\n",
      "1396/1396 [==============================] - 2s 1ms/step - loss: 0.3815 - Accuracy: 0.8332 - val_loss: 0.3761 - val_Accuracy: 0.8369\n",
      "Epoch 7/4000\n",
      "1396/1396 [==============================] - 2s 1ms/step - loss: 0.3776 - Accuracy: 0.8363 - val_loss: 0.3719 - val_Accuracy: 0.8369\n",
      "Epoch 8/4000\n",
      "1396/1396 [==============================] - 2s 1ms/step - loss: 0.3740 - Accuracy: 0.8375 - val_loss: 0.3676 - val_Accuracy: 0.8367\n",
      "Epoch 9/4000\n",
      "1396/1396 [==============================] - 2s 1ms/step - loss: 0.3710 - Accuracy: 0.8391 - val_loss: 0.3676 - val_Accuracy: 0.8385\n",
      "Epoch 10/4000\n",
      "1396/1396 [==============================] - 2s 1ms/step - loss: 0.3681 - Accuracy: 0.8406 - val_loss: 0.3667 - val_Accuracy: 0.8386\n",
      "Epoch 11/4000\n",
      "1396/1396 [==============================] - 2s 1ms/step - loss: 0.3660 - Accuracy: 0.8415 - val_loss: 0.3617 - val_Accuracy: 0.8422\n",
      "Epoch 12/4000\n",
      "1396/1396 [==============================] - 2s 1ms/step - loss: 0.3642 - Accuracy: 0.8436 - val_loss: 0.3603 - val_Accuracy: 0.8405\n",
      "Epoch 13/4000\n",
      "1396/1396 [==============================] - 2s 1ms/step - loss: 0.3620 - Accuracy: 0.8426 - val_loss: 0.3581 - val_Accuracy: 0.8441\n",
      "Epoch 14/4000\n",
      "1396/1396 [==============================] - 2s 1ms/step - loss: 0.3605 - Accuracy: 0.8443 - val_loss: 0.3576 - val_Accuracy: 0.8426\n",
      "Epoch 15/4000\n",
      "1396/1396 [==============================] - 2s 1ms/step - loss: 0.3582 - Accuracy: 0.8452 - val_loss: 0.3588 - val_Accuracy: 0.8445\n",
      "Epoch 16/4000\n",
      "1396/1396 [==============================] - 2s 1ms/step - loss: 0.3570 - Accuracy: 0.8466 - val_loss: 0.3563 - val_Accuracy: 0.8463\n",
      "Epoch 17/4000\n",
      "1396/1396 [==============================] - 2s 1ms/step - loss: 0.3555 - Accuracy: 0.8459 - val_loss: 0.3549 - val_Accuracy: 0.8474\n",
      "Epoch 18/4000\n",
      "1396/1396 [==============================] - 2s 1ms/step - loss: 0.3542 - Accuracy: 0.8470 - val_loss: 0.3552 - val_Accuracy: 0.8447\n",
      "Epoch 19/4000\n",
      "1396/1396 [==============================] - 2s 1ms/step - loss: 0.3528 - Accuracy: 0.8483 - val_loss: 0.3538 - val_Accuracy: 0.8455\n",
      "Epoch 20/4000\n",
      "1396/1396 [==============================] - 2s 1ms/step - loss: 0.3517 - Accuracy: 0.8483 - val_loss: 0.3560 - val_Accuracy: 0.8462\n",
      "Epoch 21/4000\n",
      "1396/1396 [==============================] - 2s 1ms/step - loss: 0.3510 - Accuracy: 0.8485 - val_loss: 0.3530 - val_Accuracy: 0.8484\n",
      "Epoch 22/4000\n",
      "1396/1396 [==============================] - 2s 1ms/step - loss: 0.3499 - Accuracy: 0.8496 - val_loss: 0.3556 - val_Accuracy: 0.8472\n",
      "Epoch 23/4000\n",
      "1396/1396 [==============================] - 2s 1ms/step - loss: 0.3491 - Accuracy: 0.8500 - val_loss: 0.3525 - val_Accuracy: 0.8477\n",
      "Epoch 24/4000\n",
      "1396/1396 [==============================] - 2s 1ms/step - loss: 0.3484 - Accuracy: 0.8514 - val_loss: 0.3537 - val_Accuracy: 0.8487\n",
      "Epoch 25/4000\n",
      "1396/1396 [==============================] - 2s 1ms/step - loss: 0.3477 - Accuracy: 0.8510 - val_loss: 0.3511 - val_Accuracy: 0.8487\n",
      "Epoch 26/4000\n",
      "1396/1396 [==============================] - 2s 1ms/step - loss: 0.3469 - Accuracy: 0.8522 - val_loss: 0.3534 - val_Accuracy: 0.8489\n",
      "Epoch 27/4000\n",
      "1396/1396 [==============================] - 2s 1ms/step - loss: 0.3464 - Accuracy: 0.8521 - val_loss: 0.3486 - val_Accuracy: 0.8487\n",
      "Epoch 28/4000\n",
      "1396/1396 [==============================] - 2s 1ms/step - loss: 0.3460 - Accuracy: 0.8522 - val_loss: 0.3511 - val_Accuracy: 0.8487\n",
      "Epoch 29/4000\n",
      "1396/1396 [==============================] - 2s 1ms/step - loss: 0.3455 - Accuracy: 0.8520 - val_loss: 0.3506 - val_Accuracy: 0.8478\n",
      "Epoch 30/4000\n",
      "1396/1396 [==============================] - 2s 1ms/step - loss: 0.3448 - Accuracy: 0.8518 - val_loss: 0.3512 - val_Accuracy: 0.8486\n",
      "Epoch 31/4000\n",
      "1396/1396 [==============================] - 2s 1ms/step - loss: 0.3447 - Accuracy: 0.8525 - val_loss: 0.3492 - val_Accuracy: 0.8504\n",
      "Epoch 32/4000\n",
      "1396/1396 [==============================] - 2s 1ms/step - loss: 0.3438 - Accuracy: 0.8525 - val_loss: 0.3494 - val_Accuracy: 0.8502\n",
      "Epoch 33/4000\n",
      "1396/1396 [==============================] - 2s 1ms/step - loss: 0.3434 - Accuracy: 0.8536 - val_loss: 0.3481 - val_Accuracy: 0.8522\n",
      "Epoch 34/4000\n",
      "1396/1396 [==============================] - 2s 1ms/step - loss: 0.3434 - Accuracy: 0.8535 - val_loss: 0.3488 - val_Accuracy: 0.8511\n",
      "Epoch 35/4000\n",
      "1396/1396 [==============================] - 2s 1ms/step - loss: 0.3426 - Accuracy: 0.8541 - val_loss: 0.3490 - val_Accuracy: 0.8485\n",
      "Epoch 36/4000\n",
      "1396/1396 [==============================] - 2s 1ms/step - loss: 0.3425 - Accuracy: 0.8526 - val_loss: 0.3484 - val_Accuracy: 0.8517\n",
      "Epoch 37/4000\n",
      "1396/1396 [==============================] - 2s 1ms/step - loss: 0.3421 - Accuracy: 0.8533 - val_loss: 0.3489 - val_Accuracy: 0.8499\n",
      "Epoch 38/4000\n",
      "1396/1396 [==============================] - 2s 1ms/step - loss: 0.3417 - Accuracy: 0.8534 - val_loss: 0.3473 - val_Accuracy: 0.8513\n",
      "Epoch 39/4000\n",
      "1396/1396 [==============================] - 2s 1ms/step - loss: 0.3418 - Accuracy: 0.8547 - val_loss: 0.3494 - val_Accuracy: 0.8486\n",
      "Epoch 40/4000\n",
      "1396/1396 [==============================] - 2s 1ms/step - loss: 0.3414 - Accuracy: 0.8538 - val_loss: 0.3472 - val_Accuracy: 0.8534\n",
      "Epoch 41/4000\n",
      "1396/1396 [==============================] - 2s 1ms/step - loss: 0.3413 - Accuracy: 0.8542 - val_loss: 0.3457 - val_Accuracy: 0.8532\n",
      "Epoch 42/4000\n",
      "1396/1396 [==============================] - 2s 1ms/step - loss: 0.3408 - Accuracy: 0.8544 - val_loss: 0.3494 - val_Accuracy: 0.8512\n",
      "Epoch 43/4000\n",
      "1396/1396 [==============================] - 2s 1ms/step - loss: 0.3412 - Accuracy: 0.8545 - val_loss: 0.3466 - val_Accuracy: 0.8518\n",
      "Epoch 44/4000\n",
      "1396/1396 [==============================] - 2s 1ms/step - loss: 0.3403 - Accuracy: 0.8558 - val_loss: 0.3533 - val_Accuracy: 0.8432\n",
      "Epoch 45/4000\n",
      "1396/1396 [==============================] - 2s 1ms/step - loss: 0.3404 - Accuracy: 0.8551 - val_loss: 0.3468 - val_Accuracy: 0.8516\n",
      "Epoch 46/4000\n",
      "1396/1396 [==============================] - 2s 1ms/step - loss: 0.3401 - Accuracy: 0.8558 - val_loss: 0.3465 - val_Accuracy: 0.8525\n",
      "Epoch 47/4000\n",
      "1396/1396 [==============================] - 2s 1ms/step - loss: 0.3398 - Accuracy: 0.8561 - val_loss: 0.3447 - val_Accuracy: 0.8531\n",
      "Epoch 48/4000\n",
      "1396/1396 [==============================] - 2s 1ms/step - loss: 0.3402 - Accuracy: 0.8544 - val_loss: 0.3470 - val_Accuracy: 0.8506\n",
      "Epoch 49/4000\n",
      "1396/1396 [==============================] - 2s 1ms/step - loss: 0.3395 - Accuracy: 0.8550 - val_loss: 0.3470 - val_Accuracy: 0.8502\n",
      "Epoch 50/4000\n",
      "1396/1396 [==============================] - 2s 1ms/step - loss: 0.3391 - Accuracy: 0.8557 - val_loss: 0.3458 - val_Accuracy: 0.8538\n",
      "Epoch 51/4000\n",
      "1396/1396 [==============================] - 2s 1ms/step - loss: 0.3386 - Accuracy: 0.8552 - val_loss: 0.3466 - val_Accuracy: 0.8517\n",
      "Epoch 52/4000\n",
      "1396/1396 [==============================] - 2s 1ms/step - loss: 0.3385 - Accuracy: 0.8560 - val_loss: 0.3436 - val_Accuracy: 0.8539\n",
      "Epoch 53/4000\n",
      "1396/1396 [==============================] - 2s 1ms/step - loss: 0.3386 - Accuracy: 0.8552 - val_loss: 0.3440 - val_Accuracy: 0.8517\n",
      "Epoch 54/4000\n",
      "1396/1396 [==============================] - 2s 1ms/step - loss: 0.3381 - Accuracy: 0.8559 - val_loss: 0.3441 - val_Accuracy: 0.8495\n",
      "Epoch 55/4000\n",
      "1396/1396 [==============================] - 2s 1ms/step - loss: 0.3381 - Accuracy: 0.8558 - val_loss: 0.3440 - val_Accuracy: 0.8520\n",
      "Epoch 56/4000\n",
      "1396/1396 [==============================] - 2s 1ms/step - loss: 0.3378 - Accuracy: 0.8559 - val_loss: 0.3450 - val_Accuracy: 0.8482\n"
     ]
    },
    {
     "name": "stdout",
     "output_type": "stream",
     "text": [
      "Epoch 57/4000\n",
      "1396/1396 [==============================] - 2s 1ms/step - loss: 0.3376 - Accuracy: 0.8558 - val_loss: 0.3457 - val_Accuracy: 0.8529\n",
      "Epoch 58/4000\n",
      "1396/1396 [==============================] - 2s 1ms/step - loss: 0.3373 - Accuracy: 0.8563 - val_loss: 0.3439 - val_Accuracy: 0.8524\n",
      "Epoch 59/4000\n",
      "1396/1396 [==============================] - 2s 1ms/step - loss: 0.3370 - Accuracy: 0.8554 - val_loss: 0.3421 - val_Accuracy: 0.8511\n",
      "Epoch 60/4000\n",
      "1396/1396 [==============================] - 2s 1ms/step - loss: 0.3371 - Accuracy: 0.8570 - val_loss: 0.3426 - val_Accuracy: 0.8525\n",
      "Epoch 61/4000\n",
      "1396/1396 [==============================] - 2s 1ms/step - loss: 0.3368 - Accuracy: 0.8570 - val_loss: 0.3439 - val_Accuracy: 0.8533\n",
      "Epoch 62/4000\n",
      "1396/1396 [==============================] - 2s 1ms/step - loss: 0.3365 - Accuracy: 0.8574 - val_loss: 0.3425 - val_Accuracy: 0.8528\n",
      "Epoch 63/4000\n",
      "1396/1396 [==============================] - 2s 1ms/step - loss: 0.3363 - Accuracy: 0.8573 - val_loss: 0.3425 - val_Accuracy: 0.8533\n",
      "Epoch 64/4000\n",
      "1396/1396 [==============================] - 2s 1ms/step - loss: 0.3359 - Accuracy: 0.8564 - val_loss: 0.3437 - val_Accuracy: 0.8516\n",
      "Epoch 65/4000\n",
      "1396/1396 [==============================] - 2s 1ms/step - loss: 0.3356 - Accuracy: 0.8566 - val_loss: 0.3424 - val_Accuracy: 0.8526\n",
      "Epoch 66/4000\n",
      "1396/1396 [==============================] - 2s 1ms/step - loss: 0.3358 - Accuracy: 0.8569 - val_loss: 0.3441 - val_Accuracy: 0.8555\n",
      "Epoch 67/4000\n",
      "1396/1396 [==============================] - 2s 1ms/step - loss: 0.3354 - Accuracy: 0.8571 - val_loss: 0.3438 - val_Accuracy: 0.8493\n",
      "Epoch 68/4000\n",
      "1396/1396 [==============================] - 2s 1ms/step - loss: 0.3355 - Accuracy: 0.8571 - val_loss: 0.3435 - val_Accuracy: 0.8512\n",
      "Epoch 69/4000\n",
      "1396/1396 [==============================] - 2s 1ms/step - loss: 0.3355 - Accuracy: 0.8576 - val_loss: 0.3427 - val_Accuracy: 0.8499\n",
      "Epoch 70/4000\n",
      "1396/1396 [==============================] - 2s 1ms/step - loss: 0.3352 - Accuracy: 0.8579 - val_loss: 0.3421 - val_Accuracy: 0.8555\n",
      "Epoch 71/4000\n",
      "1396/1396 [==============================] - 2s 1ms/step - loss: 0.3348 - Accuracy: 0.8581 - val_loss: 0.3444 - val_Accuracy: 0.8521\n",
      "Epoch 72/4000\n",
      "1396/1396 [==============================] - 2s 1ms/step - loss: 0.3349 - Accuracy: 0.8584 - val_loss: 0.3427 - val_Accuracy: 0.8558\n",
      "Epoch 73/4000\n",
      "1396/1396 [==============================] - 2s 1ms/step - loss: 0.3346 - Accuracy: 0.8588 - val_loss: 0.3412 - val_Accuracy: 0.8544\n",
      "Epoch 74/4000\n",
      "1396/1396 [==============================] - 2s 1ms/step - loss: 0.3344 - Accuracy: 0.8588 - val_loss: 0.3463 - val_Accuracy: 0.8503\n",
      "Epoch 75/4000\n",
      "1396/1396 [==============================] - 2s 1ms/step - loss: 0.3340 - Accuracy: 0.8587 - val_loss: 0.3436 - val_Accuracy: 0.8530\n",
      "Epoch 76/4000\n",
      "1396/1396 [==============================] - 2s 1ms/step - loss: 0.3346 - Accuracy: 0.8585 - val_loss: 0.3447 - val_Accuracy: 0.8557\n",
      "Epoch 77/4000\n",
      "1396/1396 [==============================] - 2s 1ms/step - loss: 0.3343 - Accuracy: 0.8593 - val_loss: 0.3477 - val_Accuracy: 0.8531\n",
      "Epoch 78/4000\n",
      "1396/1396 [==============================] - 2s 1ms/step - loss: 0.3337 - Accuracy: 0.8589 - val_loss: 0.3446 - val_Accuracy: 0.8522\n",
      "Epoch 79/4000\n",
      "1396/1396 [==============================] - 2s 1ms/step - loss: 0.3338 - Accuracy: 0.8597 - val_loss: 0.3422 - val_Accuracy: 0.8567\n",
      "Epoch 80/4000\n",
      "1396/1396 [==============================] - 2s 1ms/step - loss: 0.3339 - Accuracy: 0.8581 - val_loss: 0.3428 - val_Accuracy: 0.8535\n",
      "Epoch 81/4000\n",
      "1396/1396 [==============================] - 2s 1ms/step - loss: 0.3339 - Accuracy: 0.8591 - val_loss: 0.3427 - val_Accuracy: 0.8540\n",
      "Epoch 82/4000\n",
      "1396/1396 [==============================] - 2s 1ms/step - loss: 0.3337 - Accuracy: 0.8586 - val_loss: 0.3438 - val_Accuracy: 0.8558\n",
      "Epoch 83/4000\n",
      "1396/1396 [==============================] - 2s 1ms/step - loss: 0.3335 - Accuracy: 0.8593 - val_loss: 0.3446 - val_Accuracy: 0.8558\n",
      "Epoch 84/4000\n",
      "1396/1396 [==============================] - 2s 1ms/step - loss: 0.3332 - Accuracy: 0.8595 - val_loss: 0.3487 - val_Accuracy: 0.8516\n",
      "Epoch 85/4000\n",
      "1396/1396 [==============================] - 2s 1ms/step - loss: 0.3332 - Accuracy: 0.8594 - val_loss: 0.3455 - val_Accuracy: 0.8529\n",
      "Epoch 86/4000\n",
      "1396/1396 [==============================] - 2s 1ms/step - loss: 0.3330 - Accuracy: 0.8588 - val_loss: 0.3444 - val_Accuracy: 0.8507\n",
      "Epoch 87/4000\n",
      "1396/1396 [==============================] - 2s 1ms/step - loss: 0.3331 - Accuracy: 0.8592 - val_loss: 0.3436 - val_Accuracy: 0.8527\n",
      "Epoch 88/4000\n",
      "1396/1396 [==============================] - 2s 1ms/step - loss: 0.3330 - Accuracy: 0.8595 - val_loss: 0.3453 - val_Accuracy: 0.8524\n",
      "Epoch 89/4000\n",
      "1396/1396 [==============================] - 2s 1ms/step - loss: 0.3330 - Accuracy: 0.8589 - val_loss: 0.3423 - val_Accuracy: 0.8530\n",
      "Epoch 90/4000\n",
      "1396/1396 [==============================] - 2s 1ms/step - loss: 0.3326 - Accuracy: 0.8580 - val_loss: 0.3430 - val_Accuracy: 0.8542\n",
      "Epoch 91/4000\n",
      "1396/1396 [==============================] - 2s 1ms/step - loss: 0.3325 - Accuracy: 0.8587 - val_loss: 0.3436 - val_Accuracy: 0.8592\n",
      "Epoch 92/4000\n",
      "1396/1396 [==============================] - 2s 1ms/step - loss: 0.3320 - Accuracy: 0.8593 - val_loss: 0.3430 - val_Accuracy: 0.8555\n",
      "Epoch 93/4000\n",
      "1396/1396 [==============================] - 2s 1ms/step - loss: 0.3328 - Accuracy: 0.8590 - val_loss: 0.3428 - val_Accuracy: 0.8540\n",
      "Epoch 93: early stopping\n"
     ]
    }
   ],
   "source": [
    "# Train the model\n",
    "'''\n",
    "trained_model=model.fit(X_train,Y_train,epochs=4000,batch_size=5,callbacks=cb,\n",
    "                        validation_split=0.2)\n",
    "                        '''\n",
    "# validation_split= 0.2 mean 20% data for validation from X_train,Y_train\n",
    "\n",
    "\n",
    "\n",
    "X_train_ros,X_val_ros,Y_train_ros,Y_val_ros=train_test_split(X_train_ros,Y_train_ros,\n",
    "                                             test_size=0.2,random_state=1)\n",
    "trained_model=model.fit(X_train_ros,Y_train_ros,epochs=4000,callbacks=cb,\n",
    "                        validation_data=(X_val_ros,Y_val_ros))"
   ]
  },
  {
   "cell_type": "code",
   "execution_count": 40,
   "id": "hOid7bxBPi83",
   "metadata": {
    "executionInfo": {
     "elapsed": 27,
     "status": "ok",
     "timestamp": 1659019400493,
     "user": {
      "displayName": "Shaikh Kamran",
      "userId": "05909890588408576726"
     },
     "user_tz": -330
    },
    "id": "hOid7bxBPi83"
   },
   "outputs": [
    {
     "name": "stdout",
     "output_type": "stream",
     "text": [
      "1396/1396 [==============================] - 1s 872us/step - loss: 0.3280 - Accuracy: 0.8602\n"
     ]
    },
    {
     "data": {
      "text/plain": [
       "[0.3279542326927185, 0.860214114189148]"
      ]
     },
     "execution_count": 40,
     "metadata": {},
     "output_type": "execute_result"
    }
   ],
   "source": [
    "# training loss and training score\n",
    "model.evaluate(X_train_ros,Y_train_ros)"
   ]
  },
  {
   "cell_type": "code",
   "execution_count": 41,
   "id": "a9e00621",
   "metadata": {},
   "outputs": [
    {
     "name": "stdout",
     "output_type": "stream",
     "text": [
      "349/349 [==============================] - 0s 876us/step - loss: 0.3428 - Accuracy: 0.8540\n"
     ]
    },
    {
     "data": {
      "text/plain": [
       "[0.34279072284698486, 0.8539949655532837]"
      ]
     },
     "execution_count": 41,
     "metadata": {},
     "output_type": "execute_result"
    }
   ],
   "source": [
    "# testing loss and testing score\n",
    "model.evaluate(X_val_ros,Y_val_ros)"
   ]
  },
  {
   "cell_type": "code",
   "execution_count": 42,
   "id": "063ea2bc",
   "metadata": {},
   "outputs": [
    {
     "data": {
      "image/png": "[encoded data removed]",
      "text/plain": [
       "<Figure size 432x288 with 1 Axes>"
      ]
     },
     "metadata": {
      "needs_background": "light"
     },
     "output_type": "display_data"
    }
   ],
   "source": [
    "#visualisation the accuracy(training accuracy) and val_accuracy(testing accuracy)\n",
    "plt.plot(trained_model.history['Accuracy'],label='Training Accuracy')\n",
    "plt.plot(trained_model.history['val_Accuracy'],label='Testing Accuracy')\n",
    "plt.legend()\n",
    "plt.show()"
   ]
  },
  {
   "cell_type": "code",
   "execution_count": 43,
   "id": "21785933",
   "metadata": {},
   "outputs": [
    {
     "data": {
      "image/png": "[encoded data removed]",
      "text/plain": [
       "<Figure size 432x288 with 1 Axes>"
      ]
     },
     "metadata": {
      "needs_background": "light"
     },
     "output_type": "display_data"
    }
   ],
   "source": [
    "#visualisation the loss(training loss) and val_loss(testing loss)\n",
    "plt.plot(trained_model.history['loss'],label='Training Loss')\n",
    "plt.plot(trained_model.history['val_loss'],label='Testing Loss')\n",
    "plt.legend()\n",
    "plt.show()"
   ]
  },
  {
   "cell_type": "code",
   "execution_count": 44,
   "id": "d8d5b2ba",
   "metadata": {},
   "outputs": [
    {
     "name": "stdout",
     "output_type": "stream",
     "text": [
      "751/751 [==============================] - 1s 702us/step\n"
     ]
    },
    {
     "data": {
      "text/plain": [
       "array([[0.0081578 ],\n",
       "       [0.01390041],\n",
       "       [0.830708  ],\n",
       "       ...,\n",
       "       [0.7896618 ],\n",
       "       [0.97251517],\n",
       "       [0.7934146 ]], dtype=float32)"
      ]
     },
     "execution_count": 44,
     "metadata": {},
     "output_type": "execute_result"
    }
   ],
   "source": [
    "# test the model with 30% record \n",
    "Y_pred=model.predict(X_test_ros)\n",
    "Y_pred"
   ]
  },
  {
   "cell_type": "code",
   "execution_count": 45,
   "id": "ff10bf8b",
   "metadata": {},
   "outputs": [
    {
     "data": {
      "text/plain": [
       "array([[0],\n",
       "       [0],\n",
       "       [1],\n",
       "       ...,\n",
       "       [1],\n",
       "       [1],\n",
       "       [1]])"
      ]
     },
     "execution_count": 45,
     "metadata": {},
     "output_type": "execute_result"
    }
   ],
   "source": [
    "Y_pred=np.where(Y_pred>=0.5,1,0)\n",
    "Y_pred"
   ]
  },
  {
   "cell_type": "code",
   "execution_count": 46,
   "id": "86e65323",
   "metadata": {},
   "outputs": [],
   "source": [
    "from sklearn.metrics import classification_report\n",
    "from sklearn.metrics import confusion_matrix"
   ]
  },
  {
   "cell_type": "code",
   "execution_count": 47,
   "id": "61a99af6",
   "metadata": {},
   "outputs": [
    {
     "name": "stdout",
     "output_type": "stream",
     "text": [
      "              precision    recall  f1-score   support\n",
      "\n",
      "           0       0.83      0.83      0.83     12013\n",
      "           1       0.83      0.83      0.83     12013\n",
      "\n",
      "    accuracy                           0.83     24026\n",
      "   macro avg       0.83      0.83      0.83     24026\n",
      "weighted avg       0.83      0.83      0.83     24026\n",
      "\n",
      "[[9922 2091]\n",
      " [2019 9994]]\n"
     ]
    }
   ],
   "source": [
    "print(classification_report(Y_test_ros,Y_pred))\n",
    "print(confusion_matrix(Y_test_ros,Y_pred))"
   ]
  },
  {
   "cell_type": "code",
   "execution_count": null,
   "id": "2a63107e",
   "metadata": {},
   "outputs": [],
   "source": []
  }
 ],
 "metadata": {
  "colab": {
   "collapsed_sections": [
    "c9fdac87"
   ],
   "name": "Project (bank-full).ipynb",
   "provenance": []
  },
  "kernelspec": {
   "display_name": "Python 3 (ipykernel)",
   "language": "python",
   "name": "python3"
  },
  "language_info": {
   "codemirror_mode": {
    "name": "ipython",
    "version": 3
   },
   "file_extension": ".py",
   "mimetype": "text/x-python",
   "name": "python",
   "nbconvert_exporter": "python",
   "pygments_lexer": "ipython3",
   "version": "3.9.7"
  }
 },
 "nbformat": 4,
 "nbformat_minor": 5
}
